{
 "cells": [
  {
   "cell_type": "markdown",
   "metadata": {},
   "source": [
    "# Ex05 Introducción a TensorFlow\n",
    "\n",
    "Hasta ahora, hemos utilizado numpy para construir redes neuronales. Ahora comenzaremos a utilizar TensorFlow como framework para construir redes neuronales profundas de una forma más rápida. Los frameworks como TensorFlow, Caffe y Keras pueden acelerar significativamente el desarrollo de modelos de aprendizaje automático. En esta actividad, aprenderemos realizar los siguiente en TensorFlow:\n",
    "\n",
    "- Uso de elementos básicos (constantes, variables, sesiones, placeholders)\n",
    "- Algoritmos de entrenamiento\n",
    "- Implementar una red neuronal\n",
    "\n",
    "$\\textbf{Nota}$: los frameworks puede reducir el tiempo de codificación, pero también pueden tener optimizaciones que mejoren la velocidad de ejecución del código.\n",
    "\n",
    "$\\textbf{Observación}$: esta actividad ha sido diseñada para TensorFlow r1.14, si utliza otra versión podría encontrar algunos detalles de sintaxis o en el uso de funciones."
   ]
  },
  {
   "cell_type": "markdown",
   "metadata": {},
   "source": [
    "## 1. Elementos básicos de TensorFlow\n",
    "\n",
    "### 1.1 Uso de liberías\n",
    "\n",
    "Comencemos por importar la librería `tensorflow` como `tf`. En caso de que aun no tenga instalado TensorFlow, se puede optar por las siguientes opciones:\n",
    "\n",
    "- [Utilizar un docker](https://www.tensorflow.org/install#run-a-tensorflow-container).\n",
    "- [Utilizar Google colab](https://www.tensorflow.org/install#google-colab58-an-easy-way-to-learn-and-use-tensorflow)\n",
    "\n",
    "\n",
    "Adicionalmente, para esta actividad vamos a necesitar la librería `numpy`."
   ]
  },
  {
   "cell_type": "code",
   "execution_count": null,
   "metadata": {},
   "outputs": [],
   "source": [
    "import numpy as np\n",
    "import tensorflow as tf\n",
    "\n",
    "%matplotlib inline\n",
    "\n",
    "# Con el fin de poder comparar los resultados\n",
    "np.random.seed(2)"
   ]
  },
  {
   "cell_type": "markdown",
   "metadata": {},
   "source": [
    "\n",
    "### 1. 2 Uso de constantes, variables, sesiones y placeholders\n",
    "\n",
    "Ahora que hemos importado las librerías, comencemos con un ejercicio sencillo para implementar en Tensorflow. Escribamos el código que permita realizar el cálculo del error en la predicción de la salida $\\hat{Y}$ para un ejemplo de entrenamiento con respecto a la salida esperada $Y$. Esto es:\n",
    "\n",
    "$loss = \\mathcal{L}(\\hat{y}, y) = (\\hat y^{(i)} - y^{(i)})^2$\n",
    "\n",
    "Para este ejercicio:\n",
    "- Definamos `y_hat = 25` y `y=29` como constantes. Podemos definir constantes en tensorflow de la siguiente manera `nom_constante = tf.constant(valor, name = 'nom_constante')`.\n",
    "\n",
    "- Definamos la variable `loss`que debe almacenar el resultado del cálculo. Podemos definir variables en tensorflow de la siguiente manera `nom_variable = tf.Variable(valor, name='nom_variable')`\n",
    "\n",
    "- Inicialicemos las variables. Para inicializar las variables, existen diversas funciones, una de ellas es: `init = tf.global_variables_initializer()`\n",
    "\n",
    "- Definamos una sesión. Para definir una sesión podemos utilizar: `session_name = tf.Session()`.\n",
    "\n",
    "- Ejecutemos la inicialización y el cálculo de `loss`. Para esto, utilizamos la sesión previamente definida, por ejemplo: `session.run(init)`, `session.run(loss)`.\n",
    "\n",
    "Para profundizar en el tema de uso de constantes, variables y sesiones se recomienda consultar las siguientes los siguiente enlaces:\n",
    "\n",
    "- [tf.Variable](https://www.tensorflow.org/api_docs/python/tf/Variable)\n",
    "- [tf.constant](https://www.tensorflow.org/api_docs/python/tf/constant)\n",
    "- [tf.Session](https://www.tensorflow.org/api_docs/python/tf/Session)\n",
    "\n",
    "Complete el código faltante en la siguiente celda, ejecute y verifique que el resultado concuerda con la salida esperada."
   ]
  },
  {
   "cell_type": "code",
   "execution_count": null,
   "metadata": {},
   "outputs": [],
   "source": [
    "y_hat = None             #Definir una constante y_hat = 25\n",
    "y = None                 #Definir una constante y = 29\n",
    "loss = None              #Definir una variable y asignar (y-y_hat)**2\n",
    "init = None              #Definir la inicialización de variables\n",
    "session = None           #Crear una sesión e imprimir la salida\n",
    "session.run(init)        #Ejecutar la inicializión de las variables\n",
    "r = session.run(loss)    #Ejecutar el cálculo de loss\n",
    "print(f\"loss = {r}\")                  "
   ]
  },
  {
   "cell_type": "markdown",
   "metadata": {},
   "source": [
    "$\\textbf{Salida esperada: }$\n",
    "\n",
    "`loss = 16`"
   ]
  },
  {
   "cell_type": "markdown",
   "metadata": {},
   "source": [
    "¿Le parece mucho código para un problema tan sencillo? Recordemos que escribir y ejecutar programas en TensorFlow requiere seguir los siguientes pasos:\n",
    "\n",
    "1. Crear Tensors (por ejemplo, constantes y variables) que serán ejecutas/evaluadas posteriormente.\n",
    "2. Definir operaciones entre los Tensores.\n",
    "3. Inicializat los Tensores.\n",
    "4. Crear una sesión.\n",
    "5. Ejecutar la sesión. Esto ejecutará las operaciones definidas que fueron definidas.\n",
    "\n",
    "Por eso, cuando creamos la variable para el error, simplemente se define $loss$ en función de otros elementos, pero no se evalua su valor. Para evaluarla, primero tenemos que ejecutar `session.run(init)`. Esta instrucción inicializa la variable $loss$, y con la instrucción `session.run(loss)` finalmente podemos evaluar el valor de $loss$.\n",
    "\n",
    "Veamos otro ejemplo sencillo. En este caso, escribamos un programa con TensorFlow que realice la multiplicación de dos constantes. `a = 2` y `b = 10`. Almacene el resultado en una variable llamada `c` y al final imprima el resultado.\n",
    "\n",
    "Tip:\n",
    "- Para realizar la multiplicación en TensorFlow, podemos utilizar `tf.multiply(   ,   )`."
   ]
  },
  {
   "cell_type": "code",
   "execution_count": null,
   "metadata": {},
   "outputs": [],
   "source": [
    "a = None\n",
    "b = None\n",
    "c = None\n",
    "print(f\"c = {c}\")\n",
    "session = tf.Session()\n",
    "print(f\"c = {session.run(c)}\")"
   ]
  },
  {
   "cell_type": "markdown",
   "metadata": {},
   "source": [
    "$\\textbf{Salida esperada:}$\n",
    "\n",
    "`c = Tensor(\"Mul:0\", shape=(), dtype=int32)`\n",
    "\n",
    "`c = 20`"
   ]
  },
  {
   "cell_type": "markdown",
   "metadata": {},
   "source": [
    "Observe que la primer instrucción `print` no imprime el valor de la variable `c` (aun no ha sido evaluada). En resumen, recuerde inicializar sus variables, crear su sesión y ejecutar las operaciones dentro de la sesión."
   ]
  },
  {
   "cell_type": "markdown",
   "metadata": {},
   "source": [
    "Es tiempo de utilizar los `placeholders` y su uso. Un `placeholder` es un objeto cuyo valor puedes especificar  posteriormente. Para especificar valores para un `placeholder`, se pueden asignar valores utilizando un \"feed dictionary\". Veamos un ejemplo del uso de `placeholders` en TensorFlow.\n",
    "\n",
    "En la siguiente celda, se crea un `placeholder` para `z`. Esto nos permitirá asignarle un número posteriormente, cuando se ejecute la sesión."
   ]
  },
  {
   "cell_type": "code",
   "execution_count": null,
   "metadata": {},
   "outputs": [],
   "source": [
    "z = tf.placeholder(tf.int32, name='z')\n",
    "r = session.run(3*z, feed_dict = {z: 3})\n",
    "print(f\"r = {r}\")\n",
    "session.close()"
   ]
  },
  {
   "cell_type": "markdown",
   "metadata": {},
   "source": [
    "En el ejemplo anterior, cuando definimos `z` no se tiene que especificar su valor. Un `placeholder` es simplemente una variable a la que asignaras un valor posteriormente, cuando se ejecute `Session`. Normalmente se alimentan los datos al `placeholder` mediante un `feed_dictionary` en el momento que se ejecuta `Session`.\n",
    "\n",
    "En resumen, el uso de `placeholders` permite a TensorFlow especificar las operaciones necesarias para un cálculo, es decir, construir un gráfo de cálculo pero en donde los valores se especificarán más adelante."
   ]
  },
  {
   "cell_type": "markdown",
   "metadata": {},
   "source": [
    "## 2.  Algunos problemas para calentar motores\n",
    "\n",
    "### 2.1. Implementación de una función lineal\n",
    "\n",
    "Implemente una función (método si prefiere POO) que utilice TensorFlow para calcular la siguiente ecuación: $Y = WX + b$, donde $W$ y $X$ son matrices aleatorias y $b$ es un vector aleatorio.\n",
    "\n",
    "Para este ejercicio, considere las siguientes dimensiones: $W$:(4, 3), $X$: (3, 1), y $b$:(4, 1). A manera de ejemplo, observe la definición de la constante $X$ que tiene la forma (3, 1):\n",
    "```python\n",
    "X = tf.constant(np.random.randn(3,1), name = \"X\")\n",
    "```\n",
    "\n",
    "$\\textbf{Nota}$: pueden resultar útil el uso de las siguientes funciones:\n",
    "- `tf.mul(   ,   )` para realizar la multiplicación de dos matrices\n",
    "- `tf.add(   ,   )` para realizar la suma\n",
    "- `tf.random.randn(  )` para inicializar de manera aleatoria"
   ]
  },
  {
   "cell_type": "code",
   "execution_count": null,
   "metadata": {},
   "outputs": [],
   "source": [
    "def linear_function():\n",
    "    np.random.seed(1)\n",
    "    \n",
    "    #Inicialice las constantes X, W, b\n",
    "    X = None\n",
    "    W = None\n",
    "    b = None\n",
    "\n",
    "    #Defina las operaciones del grafo de cómputo\n",
    "    Y = None\n",
    "    \n",
    "    #Crear la sesión y ejecutarla\n",
    "    session = None\n",
    "    result = None\n",
    "    session.close()\n",
    "    \n",
    "    return result\n",
    "\n",
    "print(f\"result = {linear_function()}\")"
   ]
  },
  {
   "cell_type": "markdown",
   "metadata": {},
   "source": [
    "$\\textbf{Salida esperada: }$\n",
    "\n",
    "`result = [[-2.15657382]`\n",
    "\n",
    "` [ 2.95891446]`\n",
    "\n",
    "` [-1.08926781]`\n",
    "\n",
    "` [-0.84538042]]`"
   ]
  },
  {
   "cell_type": "markdown",
   "metadata": {},
   "source": [
    "### 2.2. Cálculo de la sigmoidal\n",
    "\n",
    "TensorFlow provee un variedad de funciones comúnmente utilizadas para redes neuronales como:\n",
    "- `tf.sigmoid()`\n",
    "- `tf.softmax()`\n",
    "\n",
    "Para este ejercicio, implemente una función para calcular la función sigmoidal de una entrada. Para implementar el ejercico, utilicemos el `placeholder` $x$. Cuando ejecutemos la sesión, utilicemos un `feed dictionary` para asignar el valor de entrada $z$. En resumen, tenemos que seguir los siguientes pasos:\n",
    "\n",
    "- Crear un `placeholder` llamado x\n",
    "- Definir las operaciones necesarias para calcular la función sigmoidal\n",
    "- Ejecutar la sesión."
   ]
  },
  {
   "cell_type": "code",
   "execution_count": null,
   "metadata": {},
   "outputs": [],
   "source": [
    "def sigmoid(z):\n",
    "    # Crear el placeholder para x, nombrarla x\n",
    "    x = None\n",
    "\n",
    "    # Definir el cálculo de la sigmoidal\n",
    "    sigmoid = None\n",
    "    \n",
    "    session = None\n",
    "    result = None\n",
    "    \n",
    "    return result\n",
    "\n",
    "print(f\"sigmoid(0) = {sigmoid(0)}\")\n",
    "print(f\"sigmoid(12) = {sigmoid(12)}\")"
   ]
  },
  {
   "cell_type": "markdown",
   "metadata": {},
   "source": [
    "$\\textbf{Salida esperada:}$\n",
    "\n",
    "`sigmoid(0) = 0.5`\n",
    "\n",
    "`sigmoid(12) = 0.9999938011169434`"
   ]
  },
  {
   "cell_type": "markdown",
   "metadata": {},
   "source": [
    "## 2.3. Calcular la función de costo\n",
    "\n",
    "Anteriormente implementamos la función de costo desde cero: \n",
    "\n",
    "$J = - \\frac{1}{m}  \\sum_{i = 1}^m  \\large ( \\small y^{(i)} \\log \\sigma(z^{[2](i)}) + (1-y^{(i)})\\log (1-\\sigma(z^{[2](i)})\\large )\\small$\n",
    "\n",
    "sin embargo, en TensorFlow no es necesario.\n",
    "\n",
    "En este ejercicio, implementemos una función que calcule el costo, para esto utilizaremos la función: `tf.nn.sigmoid_cross_entropy_with_logits(logits = ...,  labels = ...)`\n",
    "\n",
    "Tu implementación debe recibir `logits` (nuestros valores `z`), calcular la sigmoidal para obtener la activación y entonces calcular la función de costo."
   ]
  },
  {
   "cell_type": "code",
   "execution_count": null,
   "metadata": {},
   "outputs": [],
   "source": [
    "def cost(logits, labels):\n",
    "    \"\"\"\n",
    "    Parámetros:\n",
    "    \n",
    "    logits  vector que contiene las entradas a la unidad de activación (antes de la activación sigmoidal final)\n",
    "    labels  vector de etiquetas (1 o 0)\n",
    "    \"\"\"\n",
    "    \n",
    "    #Crear los placeholders para Z y las etiquetas\n",
    "    z = None\n",
    "    y = None\n",
    "    \n",
    "    # Utilice la función de costo\n",
    "    cost = None\n",
    "    \n",
    "    #crear una sesión\n",
    "    session = None\n",
    "    \n",
    "    #Ejecutar la sesión\n",
    "    cost = None\n",
    "    \n",
    "    #Cerrar la sesión\n",
    "    session.close()\n",
    "    \n",
    "    return cost\n",
    "\n",
    "logits = sigmoid(np.array([0.2,0.4,0.7,0.9]))\n",
    "cost = cost(logits, np.array([0,0,1,1]))\n",
    "print (f\"cost = {cost}\")"
   ]
  },
  {
   "cell_type": "markdown",
   "metadata": {},
   "source": [
    "$\\textbf{Salida esperada:}$\n",
    "\n",
    "`cost = [1.0053872  1.0366409  0.41385433 0.39956614]`"
   ]
  },
  {
   "cell_type": "markdown",
   "metadata": {},
   "source": [
    "## 2.4. Representación One Hot\n",
    "\n",
    "Muchas veces en aprendizaje profundo tendremos un vector con números que van desde 0 a $C$-1, donde $C$ es el número de clases. Si $C$ es 4, por ejemplo, entonces podría tener el siguiente vector y que deberá convertir de la siguiente manera:\n",
    "\n",
    "<img src=\"images/one_hot.png\" style=\"width:600px;height:150px;\">\n",
    "\n",
    "A esto se le llama representación `One Hot`, porque en la nueva representación únicamente un elemento por columna se encuentra encendido (valor a 1). La implementación de esta transformación puede requerir alguna lineas de código en `numpy`, sin embargo, en TensorFlow podemos utilizar la siguiente función:\n",
    "\n",
    "- tf.one_hot(labels, depth, axis) \n",
    "\n",
    "Implementemos una función que reciba un vector de etiquetas y el número de clases. La función debe retornar una representación \"One Hot\"."
   ]
  },
  {
   "cell_type": "code",
   "execution_count": null,
   "metadata": {},
   "outputs": [],
   "source": [
    "def one_hot_encoding(label, C):\n",
    "    C = None\n",
    "    \n",
    "    one_hot_encode = tf.one_hot(labels, C, axis=0)\n",
    "    \n",
    "    session = None\n",
    "    one_hot = None\n",
    "    session.close()\n",
    "    \n",
    "    return one_hot\n",
    "\n",
    "labels = np.array([1,2,0,2,1,0])\n",
    "one_hot = one_hot_encoding(labels, C = 3)\n",
    "print (f\"{one_hot}\")"
   ]
  },
  {
   "cell_type": "markdown",
   "metadata": {},
   "source": [
    "$\\textbf{Salida esperada:}$\n",
    "\n",
    "`[[0. 0. 1. 0. 0. 1.]`\n",
    "\n",
    "` [1. 0. 0. 0. 1. 0.]`\n",
    "\n",
    "` [0. 1. 0. 1. 0. 0.]]`"
   ]
  },
  {
   "cell_type": "markdown",
   "metadata": {},
   "source": [
    "## 2.5. Inicializar un vector con ceros y unos\n",
    "\n",
    "Para inicializar un vector con ceros y unos. La función que utilizaremos es `tf.ones ()`. Para inicializar con ceros, puede usar `tf.zeros ()` en su lugar. Estas funciones toma un `shape` y retorna una matriz con la misma dimensiones pero llena de ceros y unos, respectivamente.\n",
    "\n",
    "Implementemos la siguiente función para basados en un `shape`, devolver una matriz (de la misma dimensión con unos)."
   ]
  },
  {
   "cell_type": "code",
   "execution_count": null,
   "metadata": {},
   "outputs": [],
   "source": [
    "def ones(shape):\n",
    "    \n",
    "    ones = None\n",
    "    \n",
    "    session = None\n",
    "    \n",
    "    ones = session.run(None)\n",
    "    session.close()\n",
    "    \n",
    "    return ones\n",
    "\n",
    "print (f\"{ones([3])}\")"
   ]
  },
  {
   "cell_type": "markdown",
   "metadata": {},
   "source": [
    "$\\textbf{Salida esperada:}$\n",
    "\n",
    "`[1. 1. 1.]`"
   ]
  }
 ],
 "metadata": {
  "kernelspec": {
   "display_name": "Python 3",
   "language": "python",
   "name": "python3"
  },
  "language_info": {
   "codemirror_mode": {
    "name": "ipython",
    "version": 3
   },
   "file_extension": ".py",
   "mimetype": "text/x-python",
   "name": "python",
   "nbconvert_exporter": "python",
   "pygments_lexer": "ipython3",
   "version": "3.5.4rc1"
  }
 },
 "nbformat": 4,
 "nbformat_minor": 2
}
