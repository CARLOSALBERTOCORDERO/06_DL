{
 "cells": [
  {
   "cell_type": "code",
   "execution_count": 1,
   "metadata": {
    "colab": {},
    "colab_type": "code",
    "id": "26KJjVGTRAzr"
   },
   "outputs": [
    {
     "name": "stderr",
     "output_type": "stream",
     "text": [
      "c:\\_devtools\\python\\anaconda3\\envs\\venvcputf1_13\\lib\\site-packages\\tensorflow\\python\\framework\\dtypes.py:526: FutureWarning: Passing (type, 1) or '1type' as a synonym of type is deprecated; in a future version of numpy, it will be understood as (type, (1,)) / '(1,)type'.\n",
      "  _np_qint8 = np.dtype([(\"qint8\", np.int8, 1)])\n",
      "c:\\_devtools\\python\\anaconda3\\envs\\venvcputf1_13\\lib\\site-packages\\tensorflow\\python\\framework\\dtypes.py:527: FutureWarning: Passing (type, 1) or '1type' as a synonym of type is deprecated; in a future version of numpy, it will be understood as (type, (1,)) / '(1,)type'.\n",
      "  _np_quint8 = np.dtype([(\"quint8\", np.uint8, 1)])\n",
      "c:\\_devtools\\python\\anaconda3\\envs\\venvcputf1_13\\lib\\site-packages\\tensorflow\\python\\framework\\dtypes.py:528: FutureWarning: Passing (type, 1) or '1type' as a synonym of type is deprecated; in a future version of numpy, it will be understood as (type, (1,)) / '(1,)type'.\n",
      "  _np_qint16 = np.dtype([(\"qint16\", np.int16, 1)])\n",
      "c:\\_devtools\\python\\anaconda3\\envs\\venvcputf1_13\\lib\\site-packages\\tensorflow\\python\\framework\\dtypes.py:529: FutureWarning: Passing (type, 1) or '1type' as a synonym of type is deprecated; in a future version of numpy, it will be understood as (type, (1,)) / '(1,)type'.\n",
      "  _np_quint16 = np.dtype([(\"quint16\", np.uint16, 1)])\n",
      "c:\\_devtools\\python\\anaconda3\\envs\\venvcputf1_13\\lib\\site-packages\\tensorflow\\python\\framework\\dtypes.py:530: FutureWarning: Passing (type, 1) or '1type' as a synonym of type is deprecated; in a future version of numpy, it will be understood as (type, (1,)) / '(1,)type'.\n",
      "  _np_qint32 = np.dtype([(\"qint32\", np.int32, 1)])\n",
      "c:\\_devtools\\python\\anaconda3\\envs\\venvcputf1_13\\lib\\site-packages\\tensorflow\\python\\framework\\dtypes.py:535: FutureWarning: Passing (type, 1) or '1type' as a synonym of type is deprecated; in a future version of numpy, it will be understood as (type, (1,)) / '(1,)type'.\n",
      "  np_resource = np.dtype([(\"resource\", np.ubyte, 1)])\n",
      "Using TensorFlow backend.\n"
     ]
    }
   ],
   "source": [
    "import sys\n",
    "import os\n",
    "from tensorflow.python.keras.preprocessing.image import img_to_array, load_img,ImageDataGenerator       # Para preprocesar imágenes\n",
    "from tensorflow.python.keras import optimizers                                   # Utilizaremos el algoritmo Adam\n",
    "from tensorflow.python.keras.models import Sequential                            # Modelos secuenciales, capas en orden\n",
    "from tensorflow.python.keras.layers import Dropout, Flatten, Dense, Activation   # Capas para la ConvNet\n",
    "from tensorflow.python.keras.layers import Convolution2D, MaxPooling2D           # Capas para la ConvNet\n",
    "from tensorflow.python.keras import backend as k                                 # Permite gestionar sesiones en background\n",
    "from keras.preprocessing import image\n",
    "import matplotlib.pyplot as plt\n",
    "import numpy as np"
   ]
  },
  {
   "cell_type": "code",
   "execution_count": 2,
   "metadata": {
    "colab": {
     "base_uri": "https://localhost:8080/",
     "height": 34
    },
    "colab_type": "code",
    "executionInfo": {
     "elapsed": 2056,
     "status": "ok",
     "timestamp": 1570566677567,
     "user": {
      "displayName": "ocapj",
      "photoUrl": "",
      "userId": "01319100646892058440"
     },
     "user_tz": 300
    },
    "id": "Ysy_tIx8cruk",
    "outputId": "f628984c-92c8-48b1-beda-0c445e53d01d"
   },
   "outputs": [],
   "source": [
    "# Mount the Google Drive to Google Colab\n",
    "#from google.colab import drive\n",
    "#drive.mount('/content/gdrive')"
   ]
  },
  {
   "cell_type": "code",
   "execution_count": 3,
   "metadata": {},
   "outputs": [],
   "source": [
    "currentPath = os.getcwd()\n"
   ]
  },
  {
   "cell_type": "code",
   "execution_count": 4,
   "metadata": {
    "colab": {},
    "colab_type": "code",
    "id": "EtSuaNhNRAz1"
   },
   "outputs": [
    {
     "name": "stdout",
     "output_type": "stream",
     "text": [
      "Found 999 images belonging to 3 classes.\n",
      "Found 2043 images belonging to 3 classes.\n"
     ]
    }
   ],
   "source": [
    "k.clear_session();\n",
    "\n",
    "train_data = currentPath + os.sep + \"data\" + os.sep + \"data\" + os.sep + \"train\"\n",
    "test_data = currentPath + os.sep + \"data\" + os.sep + \"data\" + os.sep + \"test\"\n",
    "\n",
    "# Número de iteraciones sobre todo el dataset de entrenamiento\n",
    "epochs = 20\n",
    "\n",
    "# Dimensiones de las imágenes para procesar\n",
    "n_H, n_W = 100, 100\n",
    "\n",
    "# Utilizaremos mini-batch\n",
    "batch_size = 32\n",
    "\n",
    "# Número de iteraciones que vamos a procesar la información en cada epoca (entrenamiento)\n",
    "steps = 1000\n",
    "\n",
    "# Número de iteraciones que vamos a procesar la información en cada epoca (validación)\n",
    "test_steps = 200\n",
    "\n",
    "# Definamos la tasa de aprendizaje\n",
    "learning_rate = 0.05\n",
    "\n",
    "# Número de clases\n",
    "class_num = 3\n",
    "\n",
    "# Estructura de la red neuronal convolucionales\n",
    "filter_conv1 = 32\n",
    "size_filter1 = (3,3)\n",
    "\n",
    "filter_conv2 = 64\n",
    "size_filter2 = (2,2)\n",
    "\n",
    "#Usaremos un Max Pooling\n",
    "size_pool = (2,2)\n",
    "\n",
    "\n",
    "# 1. Antes de comenzar con el modelo, vamos a preprocesar las imágenes\n",
    "train_data_generator = ImageDataGenerator(\n",
    "    rescale = 1./255,          # Normalizar los valores de los pixeles\n",
    "    shear_range= 0.3,           # Rango del ángulo que podemos inclinar nuestras imágenes\n",
    "    zoom_range = 0.3,            # Rango del zoom que podemos hacer a nuestras imágenes\n",
    "    horizontal_flip = True       # Invierte imágenes\n",
    ")\n",
    "\n",
    "test_data_generator = ImageDataGenerator(\n",
    "    rescale = 1./255           # Normalizar los valores de los pixeles\n",
    ")\n",
    "\n",
    "# Accede al directorio, preprocesa las imágenes y organiza en mini-batchs\n",
    "train_images = train_data_generator.flow_from_directory(\n",
    "    train_data,\n",
    "    target_size = (n_H, n_W),             # Tamaño de las imágenes\n",
    "    batch_size = batch_size,              # Tamaño del mini-batch\n",
    "    class_mode = 'categorical'            # Modelo para clasificación\n",
    ")\n",
    "\n",
    "# Accede al directorio, preprocesa las imágenes y organiza en mini-batchs\n",
    "test_images = test_data_generator.flow_from_directory(\n",
    "    test_data,\n",
    "    target_size = (n_H, n_W),\n",
    "    batch_size = batch_size,\n",
    "    class_mode = 'categorical'\n",
    ")\n",
    "\n",
    "\n"
   ]
  },
  {
   "cell_type": "code",
   "execution_count": 5,
   "metadata": {},
   "outputs": [],
   "source": [
    "# 2. Crear la ConvNet\n",
    "def createModel():\n",
    "    cnn = Sequential()\n",
    "    cnn.add(Convolution2D(filter_conv1, size_filter1, padding=\"same\", input_shape=(n_H, n_W,3), activation=\"relu\"))\n",
    "    cnn.add(MaxPooling2D(pool_size=size_pool))\n",
    "    cnn.add(Convolution2D(filter_conv2, size_filter2, padding=\"same\", activation=\"relu\"))\n",
    "    cnn.add(MaxPooling2D(pool_size=size_pool))\n",
    "    cnn.add(Flatten())\n",
    "    cnn.add(Dense(255, activation=None))\n",
    "    cnn.add(Dropout(0.5))\n",
    "    cnn.add(Dense(class_num, activation='softmax'))\n",
    "    \n",
    "    return cnn"
   ]
  },
  {
   "cell_type": "code",
   "execution_count": 6,
   "metadata": {},
   "outputs": [],
   "source": [
    "# Definamos donde queremos guardar nuestro modelo y los pesos\n",
    "dirPath=currentPath + os.sep + \"model\" + os.sep"
   ]
  },
  {
   "cell_type": "code",
   "execution_count": 7,
   "metadata": {},
   "outputs": [
    {
     "name": "stdout",
     "output_type": "stream",
     "text": [
      "WARNING:tensorflow:From c:\\_devtools\\python\\anaconda3\\envs\\venvcputf1_13\\lib\\site-packages\\tensorflow\\python\\ops\\resource_variable_ops.py:435: colocate_with (from tensorflow.python.framework.ops) is deprecated and will be removed in a future version.\n",
      "Instructions for updating:\n",
      "Colocations handled automatically by placer.\n",
      "WARNING:tensorflow:From c:\\_devtools\\python\\anaconda3\\envs\\venvcputf1_13\\lib\\site-packages\\tensorflow\\python\\keras\\layers\\core.py:143: calling dropout (from tensorflow.python.ops.nn_ops) with keep_prob is deprecated and will be removed in a future version.\n",
      "Instructions for updating:\n",
      "Please use `rate` instead of `keep_prob`. Rate should be set to `rate = 1 - keep_prob`.\n",
      "WARNING:tensorflow:From c:\\_devtools\\python\\anaconda3\\envs\\venvcputf1_13\\lib\\site-packages\\tensorflow\\python\\ops\\math_ops.py:3066: to_int32 (from tensorflow.python.ops.math_ops) is deprecated and will be removed in a future version.\n",
      "Instructions for updating:\n",
      "Use tf.cast instead.\n",
      "Epoch 1/20\n",
      " 9/32 [=======>......................] - ETA: 10s - loss: 7.2686 - acc: 0.5285"
     ]
    },
    {
     "ename": "KeyboardInterrupt",
     "evalue": "",
     "output_type": "error",
     "traceback": [
      "\u001b[1;31m---------------------------------------------------------------------------\u001b[0m",
      "\u001b[1;31mKeyboardInterrupt\u001b[0m                         Traceback (most recent call last)",
      "\u001b[1;32m<ipython-input-7-c2863bae7f93>\u001b[0m in \u001b[0;36m<module>\u001b[1;34m\u001b[0m\n\u001b[0;32m      2\u001b[0m \u001b[0mmodel\u001b[0m \u001b[1;33m=\u001b[0m \u001b[0mcreateModel\u001b[0m\u001b[1;33m(\u001b[0m\u001b[1;33m)\u001b[0m\u001b[1;33m\u001b[0m\u001b[1;33m\u001b[0m\u001b[0m\n\u001b[0;32m      3\u001b[0m \u001b[0mmodel\u001b[0m\u001b[1;33m.\u001b[0m\u001b[0mcompile\u001b[0m\u001b[1;33m(\u001b[0m\u001b[0mloss\u001b[0m\u001b[1;33m=\u001b[0m\u001b[1;34m'categorical_crossentropy'\u001b[0m\u001b[1;33m,\u001b[0m \u001b[0moptimizer\u001b[0m\u001b[1;33m=\u001b[0m\u001b[0moptimizers\u001b[0m\u001b[1;33m.\u001b[0m\u001b[0mAdam\u001b[0m\u001b[1;33m(\u001b[0m\u001b[0mlr\u001b[0m\u001b[1;33m=\u001b[0m\u001b[0mlearning_rate\u001b[0m\u001b[1;33m)\u001b[0m\u001b[1;33m,\u001b[0m \u001b[0mmetrics\u001b[0m\u001b[1;33m=\u001b[0m\u001b[1;33m[\u001b[0m\u001b[1;34m'accuracy'\u001b[0m\u001b[1;33m]\u001b[0m\u001b[1;33m)\u001b[0m\u001b[1;33m\u001b[0m\u001b[1;33m\u001b[0m\u001b[0m\n\u001b[1;32m----> 4\u001b[1;33m \u001b[0mmodel\u001b[0m\u001b[1;33m.\u001b[0m\u001b[0mfit\u001b[0m\u001b[1;33m(\u001b[0m\u001b[0mtrain_images\u001b[0m\u001b[1;33m,\u001b[0m \u001b[0msteps_per_epoch\u001b[0m\u001b[1;33m=\u001b[0m\u001b[0msteps\u001b[0m\u001b[1;33m,\u001b[0m \u001b[0mepochs\u001b[0m\u001b[1;33m=\u001b[0m\u001b[0mepochs\u001b[0m\u001b[1;33m,\u001b[0m \u001b[0mvalidation_data\u001b[0m \u001b[1;33m=\u001b[0m \u001b[0mtest_images\u001b[0m\u001b[1;33m,\u001b[0m \u001b[0mvalidation_steps\u001b[0m\u001b[1;33m=\u001b[0m\u001b[0mtest_steps\u001b[0m\u001b[1;33m)\u001b[0m\u001b[1;33m\u001b[0m\u001b[1;33m\u001b[0m\u001b[0m\n\u001b[0m\u001b[0;32m      5\u001b[0m \u001b[1;33m\u001b[0m\u001b[0m\n\u001b[0;32m      6\u001b[0m \u001b[1;33m\u001b[0m\u001b[0m\n",
      "\u001b[1;32mc:\\_devtools\\python\\anaconda3\\envs\\venvcputf1_13\\lib\\site-packages\\tensorflow\\python\\keras\\engine\\training.py\u001b[0m in \u001b[0;36mfit\u001b[1;34m(self, x, y, batch_size, epochs, verbose, callbacks, validation_split, validation_data, shuffle, class_weight, sample_weight, initial_epoch, steps_per_epoch, validation_steps, max_queue_size, workers, use_multiprocessing, **kwargs)\u001b[0m\n\u001b[0;32m    735\u001b[0m           \u001b[0muse_multiprocessing\u001b[0m\u001b[1;33m=\u001b[0m\u001b[0muse_multiprocessing\u001b[0m\u001b[1;33m,\u001b[0m\u001b[1;33m\u001b[0m\u001b[1;33m\u001b[0m\u001b[0m\n\u001b[0;32m    736\u001b[0m           \u001b[0mshuffle\u001b[0m\u001b[1;33m=\u001b[0m\u001b[0mshuffle\u001b[0m\u001b[1;33m,\u001b[0m\u001b[1;33m\u001b[0m\u001b[1;33m\u001b[0m\u001b[0m\n\u001b[1;32m--> 737\u001b[1;33m           initial_epoch=initial_epoch)\n\u001b[0m\u001b[0;32m    738\u001b[0m \u001b[1;33m\u001b[0m\u001b[0m\n\u001b[0;32m    739\u001b[0m     \u001b[1;31m# Legacy support\u001b[0m\u001b[1;33m\u001b[0m\u001b[1;33m\u001b[0m\u001b[1;33m\u001b[0m\u001b[0m\n",
      "\u001b[1;32mc:\\_devtools\\python\\anaconda3\\envs\\venvcputf1_13\\lib\\site-packages\\tensorflow\\python\\keras\\engine\\training.py\u001b[0m in \u001b[0;36mfit_generator\u001b[1;34m(self, generator, steps_per_epoch, epochs, verbose, callbacks, validation_data, validation_steps, class_weight, max_queue_size, workers, use_multiprocessing, shuffle, initial_epoch)\u001b[0m\n\u001b[0;32m   1424\u001b[0m         \u001b[0muse_multiprocessing\u001b[0m\u001b[1;33m=\u001b[0m\u001b[0muse_multiprocessing\u001b[0m\u001b[1;33m,\u001b[0m\u001b[1;33m\u001b[0m\u001b[1;33m\u001b[0m\u001b[0m\n\u001b[0;32m   1425\u001b[0m         \u001b[0mshuffle\u001b[0m\u001b[1;33m=\u001b[0m\u001b[0mshuffle\u001b[0m\u001b[1;33m,\u001b[0m\u001b[1;33m\u001b[0m\u001b[1;33m\u001b[0m\u001b[0m\n\u001b[1;32m-> 1426\u001b[1;33m         initial_epoch=initial_epoch)\n\u001b[0m\u001b[0;32m   1427\u001b[0m \u001b[1;33m\u001b[0m\u001b[0m\n\u001b[0;32m   1428\u001b[0m   def evaluate_generator(self,\n",
      "\u001b[1;32mc:\\_devtools\\python\\anaconda3\\envs\\venvcputf1_13\\lib\\site-packages\\tensorflow\\python\\keras\\engine\\training_generator.py\u001b[0m in \u001b[0;36mmodel_iteration\u001b[1;34m(model, data, steps_per_epoch, epochs, verbose, callbacks, validation_data, validation_steps, class_weight, max_queue_size, workers, use_multiprocessing, shuffle, initial_epoch, mode, batch_size, **kwargs)\u001b[0m\n\u001b[0;32m    189\u001b[0m       \u001b[0mprogbar\u001b[0m\u001b[1;33m.\u001b[0m\u001b[0mon_batch_begin\u001b[0m\u001b[1;33m(\u001b[0m\u001b[0mstep\u001b[0m\u001b[1;33m,\u001b[0m \u001b[0mbatch_logs\u001b[0m\u001b[1;33m)\u001b[0m\u001b[1;33m\u001b[0m\u001b[1;33m\u001b[0m\u001b[0m\n\u001b[0;32m    190\u001b[0m \u001b[1;33m\u001b[0m\u001b[0m\n\u001b[1;32m--> 191\u001b[1;33m       \u001b[0mbatch_outs\u001b[0m \u001b[1;33m=\u001b[0m \u001b[0mbatch_function\u001b[0m\u001b[1;33m(\u001b[0m\u001b[1;33m*\u001b[0m\u001b[0mbatch_data\u001b[0m\u001b[1;33m)\u001b[0m\u001b[1;33m\u001b[0m\u001b[1;33m\u001b[0m\u001b[0m\n\u001b[0m\u001b[0;32m    192\u001b[0m       \u001b[1;32mif\u001b[0m \u001b[1;32mnot\u001b[0m \u001b[0misinstance\u001b[0m\u001b[1;33m(\u001b[0m\u001b[0mbatch_outs\u001b[0m\u001b[1;33m,\u001b[0m \u001b[0mlist\u001b[0m\u001b[1;33m)\u001b[0m\u001b[1;33m:\u001b[0m\u001b[1;33m\u001b[0m\u001b[1;33m\u001b[0m\u001b[0m\n\u001b[0;32m    193\u001b[0m         \u001b[0mbatch_outs\u001b[0m \u001b[1;33m=\u001b[0m \u001b[1;33m[\u001b[0m\u001b[0mbatch_outs\u001b[0m\u001b[1;33m]\u001b[0m\u001b[1;33m\u001b[0m\u001b[1;33m\u001b[0m\u001b[0m\n",
      "\u001b[1;32mc:\\_devtools\\python\\anaconda3\\envs\\venvcputf1_13\\lib\\site-packages\\tensorflow\\python\\keras\\engine\\training.py\u001b[0m in \u001b[0;36mtrain_on_batch\u001b[1;34m(self, x, y, sample_weight, class_weight, reset_metrics)\u001b[0m\n\u001b[0;32m   1189\u001b[0m       \u001b[1;32melse\u001b[0m\u001b[1;33m:\u001b[0m\u001b[1;33m\u001b[0m\u001b[1;33m\u001b[0m\u001b[0m\n\u001b[0;32m   1190\u001b[0m         \u001b[0mself\u001b[0m\u001b[1;33m.\u001b[0m\u001b[0m_make_fit_function\u001b[0m\u001b[1;33m(\u001b[0m\u001b[1;33m)\u001b[0m\u001b[1;33m\u001b[0m\u001b[1;33m\u001b[0m\u001b[0m\n\u001b[1;32m-> 1191\u001b[1;33m         \u001b[0moutputs\u001b[0m \u001b[1;33m=\u001b[0m \u001b[0mself\u001b[0m\u001b[1;33m.\u001b[0m\u001b[0m_fit_function\u001b[0m\u001b[1;33m(\u001b[0m\u001b[0mins\u001b[0m\u001b[1;33m)\u001b[0m  \u001b[1;31m# pylint: disable=not-callable\u001b[0m\u001b[1;33m\u001b[0m\u001b[1;33m\u001b[0m\u001b[0m\n\u001b[0m\u001b[0;32m   1192\u001b[0m \u001b[1;33m\u001b[0m\u001b[0m\n\u001b[0;32m   1193\u001b[0m     \u001b[1;32mif\u001b[0m \u001b[0mreset_metrics\u001b[0m\u001b[1;33m:\u001b[0m\u001b[1;33m\u001b[0m\u001b[1;33m\u001b[0m\u001b[0m\n",
      "\u001b[1;32mc:\\_devtools\\python\\anaconda3\\envs\\venvcputf1_13\\lib\\site-packages\\tensorflow\\python\\keras\\backend.py\u001b[0m in \u001b[0;36m__call__\u001b[1;34m(self, inputs)\u001b[0m\n\u001b[0;32m   3074\u001b[0m \u001b[1;33m\u001b[0m\u001b[0m\n\u001b[0;32m   3075\u001b[0m     fetched = self._callable_fn(*array_vals,\n\u001b[1;32m-> 3076\u001b[1;33m                                 run_metadata=self.run_metadata)\n\u001b[0m\u001b[0;32m   3077\u001b[0m     \u001b[0mself\u001b[0m\u001b[1;33m.\u001b[0m\u001b[0m_call_fetch_callbacks\u001b[0m\u001b[1;33m(\u001b[0m\u001b[0mfetched\u001b[0m\u001b[1;33m[\u001b[0m\u001b[1;33m-\u001b[0m\u001b[0mlen\u001b[0m\u001b[1;33m(\u001b[0m\u001b[0mself\u001b[0m\u001b[1;33m.\u001b[0m\u001b[0m_fetches\u001b[0m\u001b[1;33m)\u001b[0m\u001b[1;33m:\u001b[0m\u001b[1;33m]\u001b[0m\u001b[1;33m)\u001b[0m\u001b[1;33m\u001b[0m\u001b[1;33m\u001b[0m\u001b[0m\n\u001b[0;32m   3078\u001b[0m     return nest.pack_sequence_as(self._outputs_structure,\n",
      "\u001b[1;32mc:\\_devtools\\python\\anaconda3\\envs\\venvcputf1_13\\lib\\site-packages\\tensorflow\\python\\client\\session.py\u001b[0m in \u001b[0;36m__call__\u001b[1;34m(self, *args, **kwargs)\u001b[0m\n\u001b[0;32m   1437\u001b[0m           ret = tf_session.TF_SessionRunCallable(\n\u001b[0;32m   1438\u001b[0m               \u001b[0mself\u001b[0m\u001b[1;33m.\u001b[0m\u001b[0m_session\u001b[0m\u001b[1;33m.\u001b[0m\u001b[0m_session\u001b[0m\u001b[1;33m,\u001b[0m \u001b[0mself\u001b[0m\u001b[1;33m.\u001b[0m\u001b[0m_handle\u001b[0m\u001b[1;33m,\u001b[0m \u001b[0margs\u001b[0m\u001b[1;33m,\u001b[0m \u001b[0mstatus\u001b[0m\u001b[1;33m,\u001b[0m\u001b[1;33m\u001b[0m\u001b[1;33m\u001b[0m\u001b[0m\n\u001b[1;32m-> 1439\u001b[1;33m               run_metadata_ptr)\n\u001b[0m\u001b[0;32m   1440\u001b[0m         \u001b[1;32mif\u001b[0m \u001b[0mrun_metadata\u001b[0m\u001b[1;33m:\u001b[0m\u001b[1;33m\u001b[0m\u001b[1;33m\u001b[0m\u001b[0m\n\u001b[0;32m   1441\u001b[0m           \u001b[0mproto_data\u001b[0m \u001b[1;33m=\u001b[0m \u001b[0mtf_session\u001b[0m\u001b[1;33m.\u001b[0m\u001b[0mTF_GetBuffer\u001b[0m\u001b[1;33m(\u001b[0m\u001b[0mrun_metadata_ptr\u001b[0m\u001b[1;33m)\u001b[0m\u001b[1;33m\u001b[0m\u001b[1;33m\u001b[0m\u001b[0m\n",
      "\u001b[1;31mKeyboardInterrupt\u001b[0m: "
     ]
    }
   ],
   "source": [
    "# Train model\n",
    "model = createModel()\n",
    "model.compile(loss='categorical_crossentropy', optimizer=optimizers.Adam(lr=learning_rate), metrics=['accuracy'])\n",
    "model.fit(train_images, steps_per_epoch=steps, epochs=epochs, validation_data = test_images, validation_steps=test_steps)\n",
    "\n",
    "\n",
    "if not os.path.exists(dirPath):\n",
    "    os.mkdir(dirPath)\n",
    "    \n",
    "model.save(dirPath + os.sep + \"model.h5\")\n",
    "model.save_weights(dirPath + os.sep + \"weights.h5\")"
   ]
  },
  {
   "cell_type": "code",
   "execution_count": 8,
   "metadata": {},
   "outputs": [
    {
     "name": "stdout",
     "output_type": "stream",
     "text": [
      "(100, 100, 3)\n",
      "[[0.387083   0.60709023 0.00582673]]\n",
      "dog\n"
     ]
    },
    {
     "data": {
      "image/png": "[encoded data removed]",
      "text/plain": [
       "<Figure size 432x288 with 1 Axes>"
      ]
     },
     "metadata": {
      "needs_background": "light"
     },
     "output_type": "display_data"
    }
   ],
   "source": [
    "# Evaluate\n",
    "model = createModel()\n",
    "model.load_weights(dirPath + os.sep + \"weights.h5\")\n",
    "\n",
    "img_path = test_data + os.sep + \"gorilla\" + os.sep + \"18.jpeg\"\n",
    "img = image.load_img(img_path, target_size=(n_H, n_W))\n",
    "\n",
    "imgArray = image.img_to_array(img)\n",
    "# Update to 0-1 format\n",
    "imgArray = imgArray / 255.0\n",
    "print(imgArray.shape)\n",
    "plt.imshow(imgArray)\n",
    "# The modelexspect batches then lets do a batch of 1 \n",
    "imgArray = np.expand_dims(imgArray, axis=0)\n",
    "\n",
    "# Predict\n",
    "classList = os.listdir(test_data)\n",
    "prediction = model.predict(imgArray)\n",
    "print(prediction)\n",
    "prediction = model.predict_classes(imgArray)\n",
    "print(classList[prediction[0]])"
   ]
  },
  {
   "cell_type": "code",
   "execution_count": 9,
   "metadata": {},
   "outputs": [
    {
     "name": "stdout",
     "output_type": "stream",
     "text": [
      "file 0.jpeg is: cat\n",
      "file 1.jpeg is: cat\n",
      "file 10.jpeg is: cat\n",
      "file 11.jpeg is: cat\n",
      "file 12.jpeg is: cat\n",
      "file 13.jpeg is: gorilla\n",
      "file 14.jpeg is: cat\n",
      "file 15.jpeg is: cat\n",
      "file 16.jpeg is: cat\n",
      "file 17.jpeg is: gorilla\n",
      "file 18.jpeg is: cat\n",
      "file 19.jpeg is: gorilla\n",
      "file 2.jpeg is: cat\n",
      "file 20.jpeg is: cat\n",
      "file 3.jpeg is: cat\n",
      "file 4.jpeg is: cat\n",
      "file 5.jpeg is: cat\n",
      "file 6.jpeg is: cat\n",
      "file 7.jpeg is: cat\n",
      "file 8.jpeg is: gorilla\n"
     ]
    }
   ],
   "source": [
    "# Lets predict the gorillas\n",
    "gorillapath = test_data + os.sep + \"gorilla\" + os.sep\n",
    "imagesPredict = [f for f in os.listdir(gorillapath) if os.path.isfile(os.path.join(gorillapath,f))]\n",
    "# print(imagesPredict)\n",
    "\n",
    "for file in imagesPredict:\n",
    "    img = load_img(gorillapath + file, target_size=( n_W, n_H))\n",
    "    tensorImage = img_to_array(img)\n",
    "    tensorImage = np.expand_dims(tensorImage, axis=0)\n",
    "    gorillaPrediction = model.predict_classes(tensorImage, batch_size = 1)\n",
    "    print(\"file \"+ file + \" is: \" + classList[gorillaPrediction[0]])"
   ]
  },
  {
   "cell_type": "code",
   "execution_count": null,
   "metadata": {},
   "outputs": [],
   "source": []
  }
 ],
 "metadata": {
  "accelerator": "GPU",
  "colab": {
   "collapsed_sections": [],
   "name": "Ex07_training.ipynb",
   "provenance": [
    {
     "file_id": "1-SzGPs1Bo7BnPiwhMH66D2uy_9NYXvgD",
     "timestamp": 1570577817835
    }
   ]
  },
  "kernelspec": {
   "display_name": "Python 3",
   "language": "python",
   "name": "python3"
  },
  "language_info": {
   "codemirror_mode": {
    "name": "ipython",
    "version": 3
   },
   "file_extension": ".py",
   "mimetype": "text/x-python",
   "name": "python",
   "nbconvert_exporter": "python",
   "pygments_lexer": "ipython3",
   "version": "3.6.10"
  }
 },
 "nbformat": 4,
 "nbformat_minor": 1
}
