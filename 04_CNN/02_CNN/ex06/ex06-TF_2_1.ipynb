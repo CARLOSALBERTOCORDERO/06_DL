{
 "cells": [
  {
   "cell_type": "markdown",
   "metadata": {},
   "source": [
    "# Ex06 Red Neuronal Convolucional en TensorFlow 2\n",
    "\n",
    "En esta actividad, implementaremos una red neuronal convolucional utilizando TensorFlow para abordar un problema de clasificación. Se asume que ya estas familiarizado con conceptos básicos de TensorFlow como el uso de constantes, variables, tipos de datos, sesiones, placeholders y grafos de cómputo.\n",
    "\n",
    "Aprendizaje esperados:\n",
    "\n",
    "- Implementar algunas funciones de utilería que utilizaremos en el modelo ConvNet\n",
    "- Construir y entrenar una ConvNet en TensorFlow para un problema de clasificación\n",
    "\n",
    "## Uso de librerías\n",
    "\n",
    "Para comenzar con la actividad, importemos las librerías que utilizaremos."
   ]
  },
  {
   "cell_type": "code",
   "execution_count": 1,
   "metadata": {},
   "outputs": [
    {
     "name": "stdout",
     "output_type": "stream",
     "text": [
      "<module 'tensorflow_core._api.v2.version' from 'c:\\\\_devtools\\\\python\\\\anaconda3\\\\envs\\\\venvcputf2_1\\\\lib\\\\site-packages\\\\tensorflow_core\\\\_api\\\\v2\\\\version\\\\__init__.py'>\n"
     ]
    }
   ],
   "source": [
    "#import math\n",
    "import numpy as np\n",
    "import h5py\n",
    "import matplotlib.pyplot as plt\n",
    "import scipy\n",
    "from PIL import Image\n",
    "from scipy import ndimage\n",
    "import tensorflow as tf\n",
    "from tensorflow.python.framework import ops\n",
    "from utils import *\n",
    "\n",
    "%matplotlib inline\n",
    "np.random.seed(1)\n",
    "\n",
    "print(tf.version)"
   ]
  },
  {
   "cell_type": "markdown",
   "metadata": {},
   "source": [
    "## 1. Exploración del dataset de entrenamiento\n",
    "\n",
    "En esta actividad, utilizaremos un conjunto de datos que contienen imágenes con señas que representan números del 0 al 5. El conjunto de datos se encuentra organizado en dos archivos: `train_signs.h5` que utilizaremos para entrenamiento y `test_signs.h5` que utilizaremso para realizar las pruebas. Ejecutemos la siguiente celda para cargar los datasets que vamos a utilizar."
   ]
  },
  {
   "cell_type": "code",
   "execution_count": 2,
   "metadata": {},
   "outputs": [],
   "source": [
    "# Cargar datos (signs)\n",
    "# utilicemos la función load_dataset() definida en utils.py\n",
    "\n",
    "X_train_original, Y_train_original, X_test_original, Y_test_original, classes = load_dataset()"
   ]
  },
  {
   "cell_type": "markdown",
   "metadata": {},
   "source": [
    "<img src=\"images/SIGNS.png\" style=\"width:600px;height:250px;\">"
   ]
  },
  {
   "cell_type": "code",
   "execution_count": 3,
   "metadata": {},
   "outputs": [
    {
     "name": "stdout",
     "output_type": "stream",
     "text": [
      "y = [1]\n"
     ]
    },
    {
     "data": {
      "image/png": "[encoded data removed]",
      "text/plain": [
       "<Figure size 432x288 with 1 Axes>"
      ]
     },
     "metadata": {
      "needs_background": "light"
     },
     "output_type": "display_data"
    }
   ],
   "source": [
    "# Veamos una imagen del conjunto de datos de entrenamiento\n",
    "i = 7\n",
    "plt.imshow(X_train_original[i])\n",
    "print (f\"y = {Y_train_original[:, i]}\")"
   ]
  },
  {
   "cell_type": "markdown",
   "metadata": {},
   "source": [
    "Ahora que hemos visto el tipo de imágenes que contienen los `dataset`, examinemos las dimensiones de los conjuntos de datos de entrenamiento y prueba."
   ]
  },
  {
   "cell_type": "code",
   "execution_count": 4,
   "metadata": {},
   "outputs": [
    {
     "name": "stdout",
     "output_type": "stream",
     "text": [
      "Número de ejemplos de entrenamiento: 1080\n",
      "Número de ejemplos de prueba:  120\n",
      "Dimensiones de X_train_original: (1080, 64, 64, 3)\n",
      "Dimensiones de Y_train_original: (1, 1080)\n",
      "Dimensiones de X_test_original shape: (120, 64, 64, 3)\n",
      "Dimensiones de Y_test_original: (1, 120)\n",
      "Classes: [0 1 2 3 4 5]\n"
     ]
    }
   ],
   "source": [
    "print (f\"Número de ejemplos de entrenamiento: {X_train_original.shape[0]}\")\n",
    "print (f\"Número de ejemplos de prueba:  {X_test_original.shape[0]}\")\n",
    "print (f\"Dimensiones de X_train_original: {X_train_original.shape}\")\n",
    "print (f\"Dimensiones de Y_train_original: {Y_train_original.shape}\")\n",
    "print (f\"Dimensiones de X_test_original shape: {X_test_original.shape}\")\n",
    "print (f\"Dimensiones de Y_test_original: {Y_test_original.shape}\")\n",
    "print (\"Classes: {}\".format(classes))"
   ]
  },
  {
   "cell_type": "markdown",
   "metadata": {},
   "source": [
    "Antes de continuar, normalicemos las imágenes y realicemos la conversión de las etiquetas a una representación One hot (para esto podemos utilizar la función one_hot definida en `utils.py`). Verifiquemos las dimensiones de `Y_train` y `Y_test`."
   ]
  },
  {
   "cell_type": "code",
   "execution_count": 5,
   "metadata": {},
   "outputs": [
    {
     "name": "stdout",
     "output_type": "stream",
     "text": [
      "Dimensiones de Y_train_original: (1080, 6)\n",
      "Dimensiones de Y_test_original: (120, 6)\n"
     ]
    }
   ],
   "source": [
    "X_train = X_train_original/255.  #Normalicemos las imágenes de entrenamiento\n",
    "X_test = X_test_original/255.    #Normalicemos las imágenes de pruebas\n",
    "Y_train = one_hot(Y_train_original, len(classes)).T     #one_hot(dataset, número de clases).T  number of classes is 6\n",
    "Y_test = one_hot(Y_test_original, len(classes)).T      #one_hot(dataset, número de clases).T number of classes is 6\n",
    "\n",
    "print (f\"Dimensiones de Y_train_original: {Y_train.shape}\")\n",
    "print (f\"Dimensiones de Y_test_original: {Y_test.shape}\")\n"
   ]
  },
  {
   "cell_type": "markdown",
   "metadata": {},
   "source": [
    "## 2. Modelo en TensorFlow\n",
    "\n",
    "Antes de construir el modelo, implementemos algunas funciones que utilizaremos posteriormente en el modelo de nuestra ConvNet.\n",
    "\n",
    "- init_parameters\n",
    "- forward_propagation\n",
    "- compute_cost\n",
    "\n",
    "### 2.1 Funciones base\n",
    "\n",
    "#### 2.1.1 Creación de los placeholders\n",
    "\n",
    "TensorFlow 2.X no maneja placeholders entonces no los crearemos para $X$ y la salida esperada $Y$. No debemos definir el número de ejemplos de entrenamiento por el momento. Para hacerlo, puede usar la palabra `None` como el tamaño del lote. Esto le dará la flexibilidad para definirlo más tarde. Así, $X$ debe ser de dimensiones: [None, n_H, n_W, n_C] y $Y$ debe ser de dimensiones [None, n_y].\n",
    "\n",
    "[Más información](https://www.tensorflow.org/api_docs/python/tf/placeholder)."
   ]
  },
  {
   "cell_type": "markdown",
   "metadata": {},
   "source": [
    "#### 2.1.2 Inicialización de parámetros\n",
    "\n",
    "Inicialicemos los filtros: $𝑊1$ y $W2$ utilizando:\n",
    "\n",
    "In tensorflow 2.0 you have a package tf.initializer with all the Keras-like initializers you need.\n",
    "\n",
    "The Xavier initializer is the same as the Glorot Uniform initializer. Thus, to create a (3,3) variable with values sampled from that initializer you can just:\n",
    "\n",
    "shape = (3,3)\n",
    "\n",
    "initializer = tf.initializers.GlorotUniform([seed = ])\n",
    "\n",
    "var = tf.Variable(initializer(shape=shape))\n",
    "\n",
    ". No necesita preocuparse por los `bias`, ya que las funciones de TensorFlow se ocupan del `bias`. Adicionalmente, considere que sólo inicializará los filtros para las funciones `conv2d` (TensorFlow inicializa las capas `FC` automáticamente). Implementemos la función `init_parameters()`. \n",
    "\n",
    "Para inicializar un parámetro 𝑊 de dimensiones [1, 2, 3, 4] en TensorFlow, utilice:\n",
    "\n",
    "```python\n",
    "W = tf.Variable(\"W\", [1,2,3,4], initializer = ...)\n",
    "```\n",
    "\n",
    "[Más información](https://www.tensorflow.org/api_docs/python/tf/get_variable).\n",
    "\n",
    "Las dimensiones para cada grupo de filtros son:\n",
    "- W1 : [4, 4, 3, 8]\n",
    "- W2 : [2, 2, 8, 16]"
   ]
  },
  {
   "cell_type": "code",
   "execution_count": 6,
   "metadata": {},
   "outputs": [],
   "source": [
    "def init_parameters():\n",
    "    \"\"\"\n",
    "    Inicializar los pesos para construir la red neuornal con TensorFlow.\n",
    "    \n",
    "    Retorna:\n",
    "    parameters --un diccionario de tensores conteniendo W1, W2\n",
    "    \"\"\"\n",
    "    \n",
    "    tf.random.set_seed(1)                              # para que sus valores aleatorios concuerden\n",
    "        \n",
    "    ### INICIA TU CÓDIGO ### \n",
    "    #W1 = tf.Variable(\"W1\",[4,4,3,8],initializer = tf.initializers.GlorotUniform(seed = 0) )\n",
    "    #W2 = tf.Variable(\"W2\", [2, 2, 8, 16], initializer=tf.initializers.GlorotUniform(seed=0))\n",
    "    initializer = tf.initializers.GlorotUniform(seed = 0)\n",
    "    W1 = tf.Variable(initializer(shape=[4,4,3,8]))\n",
    "    W2 = tf.Variable(initializer(shape=[2, 2, 8, 16]))\n",
    "    WF = tf.Variable(initializer(shape=[64,6]))\n",
    "    b = tf.Variable(initializer(shape=[1,6]))\n",
    "    ### FIN DE TU CÓDIGO ###\n",
    "\n",
    "    parameters = {\"W1\": W1,\n",
    "                  \"W2\": W2,\n",
    "                  \"WF\": WF,\n",
    "                  \"b\": b}\n",
    "    \n",
    "    return parameters"
   ]
  },
  {
   "cell_type": "code",
   "execution_count": 7,
   "metadata": {},
   "outputs": [
    {
     "name": "stdout",
     "output_type": "stream",
     "text": [
      "W1 = [-0.05346771  0.18349849 -0.01215445  0.00138046  0.0012947  -0.02904211\n",
      " -0.11260509 -0.143055  ]\n",
      "W2 = [-0.1713624   0.09527719 -0.0744766  -0.02245569  0.24450928 -0.06879854\n",
      "  0.21546292 -0.08803296 -0.16513646 -0.19527972 -0.22957063  0.15745944\n",
      "  0.13090086 -0.12304181 -0.05287278  0.03434092]\n"
     ]
    }
   ],
   "source": [
    "parameters = init_parameters()\n",
    "\n",
    "print(f\"W1 = {parameters['W1'][1,1,1]}\")\n",
    "print(f\"W2 = {parameters['W2'][1,1,1]}\")"
   ]
  },
  {
   "cell_type": "markdown",
   "metadata": {},
   "source": [
    "#### 2.1.3 Forward propagation\n",
    "\n",
    "TensorFlow provee un conjuto de funciones para realizar las convoluciones (no es necesario implementarlas desde cero).\n",
    "\n",
    "- tf.nn.conv2d(X,W, strides = [1,s,s,1], padding = 'SAME')\n",
    "\n",
    "    - Dada una entrada `X` y un grupo de filtros `W`, la función `conv2` aplica la convolución de `W` sobre `X`. El tercer parámetro `[1, s, s, 1]` representa el `stride` para cada dimensión de la entrada `(m, n_H_prev, n_W_prev, n_C_prev)`. [[documentación]](https://www.tensorflow.org/versions/r1.14/api_docs/python/tf/nn/conv2d)\n",
    "\n",
    "\n",
    "- tf.nn.max_pool(A, ksize = [1,f,f,1], strides = [1,s,s,1], padding = 'SAME')\n",
    "    - Data una entrada `A`, la función max_pool utiliza una ventana de dimensiones `(f, f)` y `stride` de tamaño `(s, s)` para realizar el `max pooling` sobre cada ventana. [[documentación]](https://www.tensorflow.org/versions/r1.14/api_docs/python/tf/nn/max_pool)\n",
    "    ksize[channel/s, x, y, outpus]\n",
    "    \n",
    "    \n",
    "- tf.nn.relu(Z)\n",
    "    - Calcula la función `ReLU` a los elementos de `Z` (puede tener cualquier forma). [[documentación]](https://www.tensorflow.org/versions/r1.14/api_docs/python/tf/nn/relu)\n",
    "\n",
    "\n",
    "- tf.contrib.layers.flatten(A)\n",
    "    - Dada una entrada A, esta función aplana cada ejemplo en un vector 1D mientras mantiene el tamaño del lote. Devuelve un tensor aplanado con forma `[batch_size, k]`. [[documentación]](https://www.tensorflow.org/api_docs/python/tf/contrib/layers/flatten)\n",
    "\n",
    "\n",
    "- tf.contrib.layers.fully_connected(F, num_outputs)\n",
    "    - Dada una entrada aplanada F, devuelve la salida calculada usando una capa completamente conectada. [[documentación]](https://www.tensorflow.org/api_docs/python/tf/contrib/layers/fully_connected)\n",
    "\n",
    "$\\textbf{Nota}$: La función `tf.contrib.layers.fully_connected`, inicializa automáticamente los pesos en el grafo y continúa entrenándolos durante el entrenamiento del modelo. Por lo tanto, no necesita inicializar esos pesos al inicializar los parámetros.\n",
    "\n",
    "Utilizando las funciones descritas anteriormente, implementemos la función `forward_propagation`  para construir el siguiente modelo: \n",
    "\n",
    "\n",
    "`CONV2D -> RELU -> MAXPOOL -> CONV2D -> RELU -> MAXPOOL -> FLATTEN -> FULLYCONNECTED`\n",
    "\n",
    "\n",
    "Para este ejercicio, utilicemos los siguientes parámetros:\n",
    "\n",
    "- $\\textbf{CONV2D}$: stride=1, padding=\"SAME\"\n",
    "\n",
    "- $\\textbf{RELU}$\n",
    "\n",
    "- $\\textbf{MAXPOOL}$: filtro de 8x8, stride = 8, padding = \"SAME\"\n",
    "\n",
    "- $\\textbf{CONV2D}$: stride=1, padding = \"SAME\"\n",
    "\n",
    "- $\\textbf{RELU}$\n",
    "\n",
    "- $\\textbf{MAXPOOL}$: filtro de 4x4, stride = 4, padding = \"SAME\"\n",
    "\n",
    "- $\\textbf{FLATTEN}$\n",
    "\n",
    "- $\\textbf{FULLYCONNECTED (FC) layer}$.\n",
    "\n",
    "$\\text{Nota}$: la capa FC dará como resultado 6 neuronas en la capa de salida, que luego pasarán a un función `softmax`. En TensorFlow, las funciones `softmax` y `cost` se agrupan en una sola función, que se invocará posteriormente al calcular el costo."
   ]
  },
  {
   "cell_type": "code",
   "execution_count": 8,
   "metadata": {},
   "outputs": [],
   "source": [
    "def dense(x, W, b):\n",
    "  return (tf.matmul(x, W) + b)"
   ]
  },
  {
   "cell_type": "code",
   "execution_count": 9,
   "metadata": {},
   "outputs": [],
   "source": [
    "def forward_propagation(X, parameters, nClasses):\n",
    "    \"\"\"\n",
    "    Implementación de forward propagation para el modelo:\n",
    "    CONV2D -> RELU -> MAXPOOL -> CONV2D -> RELU -> MAXPOOL -> FLATTEN -> FULLYCONNECTED\n",
    "    \n",
    "    Parámetros:\n",
    "    X             placeholder del dataset de entrada, de dimensiones (input size, number of examples)\n",
    "    parameters    diccionario de python que contiene los parámetros W1, W2\n",
    "                  recordemos que las dimensiones se definen en la inicialización de parámetros.\n",
    "\n",
    "    Retorna:\n",
    "    Z3            la salida de la última unidad lineal\n",
    "    \"\"\"\n",
    "    \n",
    "    # Recupera los parámetros del diccionario \"parameters\" \n",
    "    W1 = parameters['W1']\n",
    "    W2 = parameters['W2']\n",
    "    WF = parameters['WF']\n",
    "    b = parameters['b']\n",
    "    \n",
    "    ### INICIA TU CÓDIGO ###\n",
    "    \n",
    "    # CONV2D: filtros = W1, stride = 1, padding = 'SAME'\n",
    "    Z1 = tf.nn.conv2d(X,W1, strides = [1,1,1,1] , padding = 'SAME')\n",
    "    \n",
    "    # RELU\n",
    "    A1 = tf.nn.relu(Z1)\n",
    "    \n",
    "    # MAXPOOL: filtro = 8x8, stride = 8, padding = 'SAME'\n",
    "    P1 = tf.nn.max_pool(A1, ksize = [1,8,8,1], strides = [1,8,8,1], padding = 'SAME')\n",
    "    \n",
    "    # CONV2D: filtros = W2, stride=1, padding='SAME'\n",
    "    Z2 = tf.nn.conv2d(P1,W2, strides = [1,1,1,1], padding = 'SAME')\n",
    "    \n",
    "    # RELU\n",
    "    A2 = tf.nn.relu(Z2)\n",
    "    \n",
    "    # MAXPOOL: filtro = 4x4, stride 4, padding 'SAME'\n",
    "    P2 = tf.nn.max_pool(A2, ksize = [1,4,4,1], strides = [1,4,4,1], padding = 'SAME')\n",
    "    \n",
    "    # FLATTEN\n",
    "    P2 = tf.compat.v1.layers.flatten(P2)\n",
    "    \n",
    "    # Capa FC con \"activation_fn=None\" \n",
    "    # Fully connected without output activation\n",
    "    Z3 = dense(P2 , WF, b)\n",
    "    \n",
    "    ### FIN DE TU CODIGO ###\n",
    "\n",
    "    return Z3"
   ]
  },
  {
   "cell_type": "code",
   "execution_count": 10,
   "metadata": {},
   "outputs": [
    {
     "name": "stdout",
     "output_type": "stream",
     "text": [
      "WARNING:tensorflow:From <ipython-input-9-e057a415b361>:42: flatten (from tensorflow.python.layers.core) is deprecated and will be removed in a future version.\n",
      "Instructions for updating:\n",
      "Use keras.layers.Flatten instead.\n",
      "WARNING:tensorflow:From c:\\_devtools\\python\\anaconda3\\envs\\venvcputf2_1\\lib\\site-packages\\tensorflow_core\\python\\layers\\core.py:332: Layer.apply (from tensorflow.python.keras.engine.base_layer) is deprecated and will be removed in a future version.\n",
      "Instructions for updating:\n",
      "Please use `layer.__call__` method instead.\n",
      "Z3\n",
      "tf.Tensor(\n",
      "[[-0.68018603  2.2994094   0.34934676 -0.36427402 -0.8869834  -0.0539366 ]\n",
      " [-0.5073612   2.1215506   0.19078496 -0.60236776 -0.7547219   0.12285632]], shape=(2, 6), dtype=float32)\n"
     ]
    }
   ],
   "source": [
    "np.random.seed(1)\n",
    "#X, Y = create_placeholder(64, 64, 3, 6)\n",
    "parameters = init_parameters()\n",
    "X = tf.constant(np.random.randn(2,64,64,3), tf.float32)\n",
    "Z3 = forward_propagation(X, parameters, len(classes))\n",
    "#a = session.run(Z3, {X: np.random.randn(2,64,64,3), Y: np.random.randn(2,6)})\n",
    "print(\"Z3\")\n",
    "print(Z3)"
   ]
  },
  {
   "cell_type": "markdown",
   "metadata": {},
   "source": [
    "#### 2.1.4 Calcular de costo\n",
    "\n",
    "Implementemos el cálculo de la función de costo. Para esto, utilizaremos las siguiente funciones que proporciona TensorFlow y que nos permiten evitar una implementació desde cero.\n",
    " \n",
    "- tf.nn.softmax_cross_entropy_with_logits(logits = Z3, labels = Y)\n",
    "    - Esta función calcula la función de activación softmax y la pérdida resultante.  [[Documentación]](https://www.tensorflow.org/versions/r1.14/api_docs/python/tf/nn/softmax_cross_entropy_with_logits)\n",
    "\n",
    "\n",
    "- tf.reduce_mean\n",
    "    - Calcula la media de elementos a través de las dimensiones de un tensor. Utilice esta función para sumar las pérdidas sobre todos los ejemplos y así obtener el costo total. [[Documentación]](https://www.tensorflow.org/versions/r1.14/api_docs/python/tf/math/reduce_mean)\n"
   ]
  },
  {
   "cell_type": "code",
   "execution_count": 11,
   "metadata": {},
   "outputs": [],
   "source": [
    "def cost_function(Z, Y):\n",
    "    \"\"\"\n",
    "    Calcular el costo\n",
    "    \n",
    "    Parámetros:\n",
    "    Z     salida del forward propagation (salida de la última unidad de activación lineal), de dimensiones (6, numero de ejemplos)\n",
    "    Y     placeholder de vector con etiquetas reales, tiene la misma dimensión que Z\n",
    "    \n",
    "    Retorna:\n",
    "    cost Tensor del costo\n",
    "    \"\"\"\n",
    "    \n",
    "    ### INICIO DE TU CÓDIGO ###\n",
    "    clogs = tf.nn.softmax_cross_entropy_with_logits(logits = Z, labels = Y)\n",
    "    cost = tf.reduce_mean(clogs)\n",
    "    ### FIN DE TU CÓDIGO ###\n",
    "    \n",
    "    return cost"
   ]
  },
  {
   "cell_type": "code",
   "execution_count": 12,
   "metadata": {},
   "outputs": [
    {
     "name": "stdout",
     "output_type": "stream",
     "text": [
      "cost = tf.Tensor(-1.0966101, shape=(), dtype=float32)\n"
     ]
    }
   ],
   "source": [
    "#tf.reset_default_graph()\n",
    "\n",
    "np.random.seed(1)\n",
    "parameters = init_parameters()\n",
    "X = tf.constant(np.random.randn(4,64,64,3), tf.float32)\n",
    "Y = tf.constant(np.random.randn(4,6), tf.float32)\n",
    "Z3 = forward_propagation(X, parameters, len(classes))\n",
    "cost = cost_function(Z3, Y)\n",
    "print(\"cost = \" + str(cost))\n"
   ]
  },
  {
   "cell_type": "markdown",
   "metadata": {},
   "source": [
    "## La optimización se hace de forma diferente en TF 2\n",
    "#### Un ejemplo se puede encontra aqui:\n",
    "####    https://stackoverflow.com/questions/55060736/tensorflow-2-api-regression-tensorflow-python-framework-ops-eagertensor-object\n"
   ]
  },
  {
   "cell_type": "code",
   "execution_count": 13,
   "metadata": {},
   "outputs": [
    {
     "name": "stdout",
     "output_type": "stream",
     "text": [
      "TensorFlow version: 2.1.0\n",
      "Eager execution: True\n",
      "tf.Tensor(477596100.0, shape=(), dtype=float32)\n",
      "tf.Tensor(476479170.0, shape=(), dtype=float32)\n",
      "tf.Tensor(475364100.0, shape=(), dtype=float32)\n",
      "tf.Tensor(474251100.0, shape=(), dtype=float32)\n",
      "tf.Tensor(473140030.0, shape=(), dtype=float32)\n",
      "tf.Tensor(472031000.0, shape=(), dtype=float32)\n",
      "tf.Tensor(470924000.0, shape=(), dtype=float32)\n",
      "tf.Tensor(469819140.0, shape=(), dtype=float32)\n",
      "tf.Tensor(468716400.0, shape=(), dtype=float32)\n",
      "tf.Tensor(467615800.0, shape=(), dtype=float32)\n"
     ]
    }
   ],
   "source": [
    "\n",
    "import tensorflow as tf\n",
    "import numpy as np\n",
    "\n",
    "print(\"TensorFlow version: {}\".format(tf.__version__))\n",
    "print(\"Eager execution: {}\".format(tf.executing_eagerly()))\n",
    "\n",
    "x = np.array([\n",
    "    [100, 105.4, 108.3, 111.1, 113, 114.7],\n",
    "    [11, 11.8, 12.3, 12.8, 13.1, 13.6],\n",
    "    [55, 56.3, 57, 58, 59.5, 60.4]\n",
    "])\n",
    "\n",
    "y = np.array([4000, 4200.34, 4700, 5300, 5800, 6400])\n",
    "\n",
    "\n",
    "class Model(object):\n",
    "    def __init__(self, x, y):\n",
    "        # Initialize variable to (5.0, 0.0)\n",
    "        # In practice, these should be initialized to random values.\n",
    "        self.W = tf.Variable(tf.random.normal((len(x), len(x[0]))))\n",
    "        self.b = tf.Variable(tf.random.normal((len(y),)))\n",
    "\n",
    "    def __call__(self, x):\n",
    "        return self.W * x + self.b\n",
    "\n",
    "\n",
    "def loss(predicted_y, desired_y):\n",
    "    return tf.reduce_sum(tf.square(predicted_y - desired_y))\n",
    "\n",
    "optimizer = tf.optimizers.Adam(0.1)\n",
    "# noinspection PyPep8Naming\n",
    "def train(model, inputs, outputs):\n",
    "    with tf.GradientTape() as t:\n",
    "        current_loss = loss(model(inputs), outputs)\n",
    "    grads = t.gradient(current_loss, [model.W, model.b])\n",
    "    optimizer.apply_gradients(zip(grads,[model.W, model.b]))\n",
    "    print(current_loss)\n",
    "\n",
    "\n",
    "model = Model(x, y)\n",
    "\n",
    "for i in range(10):\n",
    "    train(model,x,y)"
   ]
  },
  {
   "cell_type": "code",
   "execution_count": 14,
   "metadata": {},
   "outputs": [
    {
     "name": "stdout",
     "output_type": "stream",
     "text": [
      "TensorFlow version: 2.1.0\n",
      "Eager execution: True\n",
      "tf.Tensor(53574.875, shape=(), dtype=float32)\n",
      "tf.Tensor(8430744.0, shape=(), dtype=float32)\n",
      "tf.Tensor(4081548.5, shape=(), dtype=float32)\n",
      "tf.Tensor(4179521.8, shape=(), dtype=float32)\n",
      "tf.Tensor(9129563.0, shape=(), dtype=float32)\n",
      "tf.Tensor(13398695.0, shape=(), dtype=float32)\n",
      "tf.Tensor(17994348.0, shape=(), dtype=float32)\n",
      "tf.Tensor(22966686.0, shape=(), dtype=float32)\n",
      "tf.Tensor(28374816.0, shape=(), dtype=float32)\n",
      "tf.Tensor(34452430.0, shape=(), dtype=float32)\n"
     ]
    }
   ],
   "source": [
    "print(\"TensorFlow version: {}\".format(tf.__version__))\n",
    "print(\"Eager execution: {}\".format(tf.executing_eagerly()))\n",
    "\n",
    "\n",
    "x = tf.constant(np.random.randn(1,3,6,3), tf.float32)\n",
    "\n",
    "y = tf.constant([4000, \n",
    "              4200.34, \n",
    "              4700])\n",
    "\n",
    "def createModel():\n",
    "    initializer = tf.initializers.GlorotUniform(seed = 0)\n",
    "    modeldic ={\"W1\": tf.Variable(tf.random.normal((2, 2,3, 1))),\n",
    "               \"W2\": tf.Variable(tf.random.normal((18, 3))),\n",
    "               \"b\": tf.Variable(initializer(shape=[1,3]))}\n",
    "    return modeldic\n",
    "\n",
    "def convTest(X,params):\n",
    "    oneMatrix = tf.nn.conv2d(X,params[\"W1\"], strides = [1,1,1,1] , padding = 'SAME')\n",
    "    oneMatrix = tf.compat.v1.layers.flatten(oneMatrix)\n",
    "    return dense(oneMatrix,params[\"W2\"], params[\"b\"] )\n",
    "\n",
    "optimizer = tf.optimizers.Adam(40)\n",
    "# noinspection PyPep8Naming\n",
    "def train(model, inputs, outputs):\n",
    "    with tf.GradientTape() as t:\n",
    "        current_loss = cost_function(convTest(inputs, model), outputs)\n",
    "    grads = t.gradient(current_loss, [model[\"W1\"], model[\"W2\"], model[\"b\"]])\n",
    "    optimizer.apply_gradients(zip(grads,[model[\"W1\"], model[\"W2\"], model[\"b\"]]))\n",
    "    print(current_loss)\n",
    "\n",
    "inputModel = createModel()\n",
    "for i in range(10):\n",
    "    train(inputModel,x,y)"
   ]
  },
  {
   "cell_type": "markdown",
   "metadata": {},
   "source": [
    "### 2.2 Integración del modelo ConvNet\n",
    "\n",
    "Finalmente, integremos las funciones que implementamos anteriormente para construir un modelo. Posteriormente, entrenaremos el conjunto de datos `train_signs.h5` utilizando mini lotes. En el archivo `utils.py` se encuentra implementada la función `random_mini_batches()`. Recuerde que esta función devuelve una lista de mini lotes.\n",
    "\n",
    "El modelo debería:\n",
    "\n",
    "- Realizar el forward propagation\n",
    "- Calcular el costo\n",
    "- Crear un optimizador\n",
    "\n",
    "Finalmente, creará una sesión y ejecutará un bucle for para num_epochs, obtendrá los mini lotes y luego, para cada mini lote, optimizará la función. \n",
    "\n",
    "Completemos la siguiente función:"
   ]
  },
  {
   "cell_type": "code",
   "execution_count": 15,
   "metadata": {},
   "outputs": [],
   "source": [
    "def model(X_train, Y_train, X_test, Y_test, learning_rate = 0.006, num_epochs = 100, minibatch_size = 64):\n",
    "    \"\"\"\n",
    "    Recordemos la estructura de la ConvNet:\n",
    "    CONV2D -> RELU -> MAXPOOL -> CONV2D -> RELU -> MAXPOOL -> FLATTEN -> FULLYCONNECTED\n",
    "    \n",
    "    Parámetros: \n",
    "    X_train          dataset de entrenamiento, dimensiones (None, 64, 64, 3)\n",
    "    Y_train          etiquetas reales del dataset de entrenamiento, dimensiones (None, n_y = 6)\n",
    "    X_test           dataset de pruebas, dimensiones (None, 64, 64, 3)\n",
    "    Y_test           etiquetas reales del dataset de pruebas, dimensiones (None, n_y = 6)\n",
    "    learning_rate    tasa de aprendizaje del optimizador\n",
    "    num_epochs       número de epocas del ciclo del optimizador\n",
    "    minibatch_size   tamaño del mini batch \n",
    "    \"\"\"\n",
    "    \n",
    "    #ops.reset_default_graph()                   # permite ejecutar el modelo sin sobre escribir las variables tf\n",
    "    tf.random.set_seed(1)                       # para mantener los resultados consistentes tensorflow\n",
    "    seed = 3                                    # para mantener los resultados consistentes en numpy \n",
    "    \n",
    "    (m, n_H0, n_W0, n_C0) = X_train.shape       # identificar las dimensiones del dataset de entrenamiento\n",
    "    n_y = len(classes)                      # identificar el número de etiquetas\n",
    "    costs = []                                  # Para mantener un registro de los costos\n",
    "    \n",
    "    # Crear placeholders con las dimensiones correctas\n",
    "    ### INICIA TU CÓDIGO ### \n",
    "    #X, Y = None\n",
    "    ### FINALIZA TU CÓDIGO ###\n",
    "\n",
    "    # Inicializar los parámetros\n",
    "    ### INICIA TU CÓDIGO ### (1 line)\n",
    "    parameters = init_parameters()\n",
    "    ### FINALIZA TU CÓDIGO ###\n",
    "    optimizer = tf.optimizers.Adam(learning_rate)\n",
    "    # Ciclo de entrenamiento\n",
    "    for epoch in range(num_epochs):\n",
    "        minibatch_cost = 0.\n",
    "        num_minibatches = int(m / minibatch_size) # number of minibatches of size minibatch_size in the train set\n",
    "        seed = seed + 1\n",
    "        minibatches = random_mini_batches(X_train, Y_train, minibatch_size, seed) #Definida en utils.py\n",
    "\n",
    "        for minibatch in minibatches:\n",
    "            # Selecciona un minibatch\n",
    "            (minibatch_X, minibatch_Y) = minibatch            \n",
    "            \n",
    "            with tf.GradientTape() as t:\n",
    "                Z3 = forward_propagation(minibatch_X, parameters, n_y)\n",
    "                current_loss = cost_function(Z3, minibatch_Y)\n",
    "            grads = t.gradient(current_loss, [parameters[\"W1\"], parameters[\"W2\"], parameters[\"WF\"], parameters[\"b\"]])\n",
    "            optimizer.apply_gradients(zip(grads,[parameters[\"W1\"], parameters[\"W2\"], parameters[\"WF\"], parameters[\"b\"]]))            \n",
    "            \n",
    "            minibatch_cost += current_loss / num_minibatches\n",
    "            \n",
    "        # Imprimir el costo\n",
    "        if epoch % 10 == 0:\n",
    "            print (f\"Costo despues de la epoca {epoch}: {minibatch_cost}\")\n",
    "        if epoch % 1 == 0:\n",
    "            costs.append(minibatch_cost)\n",
    "            \n",
    "    # graficar el costo\n",
    "    plt.plot(np.squeeze(costs))\n",
    "    plt.ylabel('Costo')\n",
    "    plt.xlabel('Epocas')\n",
    "    plt.title(\"Tasa de aprendizaje:\" + str(learning_rate))\n",
    "    plt.show()\n",
    "\n",
    "    # Calcular las predicciones correctas\n",
    "    # Calcular la exactitud sobre el conjunto de entrenamiento\n",
    "    ZT = forward_propagation(X_test, parameters, n_y)\n",
    "    predict_op = tf.argmax(ZT, 1)\n",
    "    correct_prediction = tf.equal(predict_op, tf.argmax(Y_test, 1))\n",
    "    train_accuracy = tf.reduce_mean(tf.cast(correct_prediction, \"float\"))\n",
    "    print(\"Exactitud (Training dataset):\", train_accuracy)\n",
    "    \n",
    "    # Calcular la exactitud sobre el conjunto de pruebas\n",
    "    ZT = forward_propagation(X_train, parameters, n_y)\n",
    "    predict_op = tf.argmax(ZT, 1)\n",
    "    print(predict_op)\n",
    "    print(tf.argmax(Y_train, 1))\n",
    "    correct_prediction = tf.equal(predict_op, tf.argmax(Y_train, 1))\n",
    "    test_accuracy = tf.reduce_mean(tf.cast(correct_prediction, \"float\"))\n",
    "    print(\"Exactitud (Test datset):\", test_accuracy)\n",
    "\n",
    "    return train_accuracy, test_accuracy, parameters\n",
    "    \n",
    "   "
   ]
  },
  {
   "cell_type": "code",
   "execution_count": 16,
   "metadata": {},
   "outputs": [
    {
     "name": "stdout",
     "output_type": "stream",
     "text": [
      "Costo despues de la epoca 0: 1.919106125831604\n",
      "Costo despues de la epoca 10: 0.8343158960342407\n",
      "Costo despues de la epoca 20: 0.5481609106063843\n",
      "Costo despues de la epoca 30: 0.38632288575172424\n",
      "Costo despues de la epoca 40: 0.2811056971549988\n",
      "Costo despues de la epoca 50: 0.21027907729148865\n",
      "Costo despues de la epoca 60: 0.16964681446552277\n",
      "Costo despues de la epoca 70: 0.12637241184711456\n",
      "Costo despues de la epoca 80: 0.12093150615692139\n",
      "Costo despues de la epoca 90: 0.080610491335392\n"
     ]
    },
    {
     "data": {
      "image/png": "[encoded data removed]",
      "text/plain": [
       "<Figure size 432x288 with 1 Axes>"
      ]
     },
     "metadata": {
      "needs_background": "light"
     },
     "output_type": "display_data"
    },
    {
     "name": "stdout",
     "output_type": "stream",
     "text": [
      "Exactitud (Training dataset): tf.Tensor(0.89166665, shape=(), dtype=float32)\n",
      "tf.Tensor([5 0 2 ... 2 4 5], shape=(1080,), dtype=int64)\n",
      "tf.Tensor([5 0 2 ... 2 4 5], shape=(1080,), dtype=int64)\n",
      "Exactitud (Test datset): tf.Tensor(0.9861111, shape=(), dtype=float32)\n"
     ]
    }
   ],
   "source": [
    "_, _, parameters = model(X_train, Y_train, X_test, Y_test)"
   ]
  },
  {
   "cell_type": "markdown",
   "metadata": {},
   "source": [
    "### Lets Check results"
   ]
  },
  {
   "cell_type": "code",
   "execution_count": 17,
   "metadata": {},
   "outputs": [
    {
     "name": "stdout",
     "output_type": "stream",
     "text": [
      "tf.Tensor(\n",
      "[0 0 0 5 1 0 3 1 5 1 5 1 3 1 1 3 5 4 0 5 5 4 2 5 3 5 4 2 1 2 3 1 0 2 1 1 0\n",
      " 3 2 3 0 3 0 2 3 1 1 2 0 3 4 1 2 0 4 0 5 0 4 5 5 5 2 4 2 5 0 4 3 5 0 4 1 2\n",
      " 3 4 3 5 1 5 2 0 1 4 2 4 4 1 4 5 5 0 0 5 5 5 5 5 5 2 2 2 0 1 4 3 0 2 3 4 1\n",
      " 3 2 4 2 2 1 3 2 3], shape=(120,), dtype=int64)\n",
      "tf.Tensor(\n",
      "[0 0 0 5 1 0 3 1 5 1 5 1 3 1 1 3 5 4 0 4 5 4 2 5 3 5 4 2 1 2 3 1 0 3 1 1 0\n",
      " 4 2 3 0 3 0 2 3 1 2 2 0 3 4 1 2 0 4 0 4 0 4 4 5 5 2 4 4 5 0 1 3 5 0 4 1 2\n",
      " 3 4 3 5 1 5 2 0 1 4 2 4 4 1 4 5 5 0 0 5 5 5 3 3 5 2 2 2 0 2 5 3 0 2 3 4 1\n",
      " 3 2 4 2 2 1 3 1 3], shape=(120,), dtype=int64)\n",
      "tf.Tensor(5, shape=(), dtype=int64)\n"
     ]
    }
   ],
   "source": [
    "ZT = forward_propagation(X_test, parameters, len(classes))\n",
    "predict_op = tf.argmax(ZT, 1)\n",
    "print(predict_op)\n",
    "print(tf.argmax(Y_test, 1))\n",
    "print(predict_op[3])"
   ]
  },
  {
   "cell_type": "code",
   "execution_count": 18,
   "metadata": {},
   "outputs": [
    {
     "name": "stdout",
     "output_type": "stream",
     "text": [
      "prediction = 0\n"
     ]
    },
    {
     "data": {
      "image/png": "[encoded data removed]",
      "text/plain": [
       "<Figure size 432x288 with 1 Axes>"
      ]
     },
     "metadata": {
      "needs_background": "light"
     },
     "output_type": "display_data"
    }
   ],
   "source": [
    "plt.imshow(X_test_original[0])\n",
    "print (f\"prediction = {predict_op[0]}\")"
   ]
  },
  {
   "cell_type": "code",
   "execution_count": 19,
   "metadata": {},
   "outputs": [
    {
     "name": "stdout",
     "output_type": "stream",
     "text": [
      "prediction = 2\n"
     ]
    },
    {
     "data": {
      "image/png": "[encoded data removed]",
      "text/plain": [
       "<Figure size 432x288 with 1 Axes>"
      ]
     },
     "metadata": {
      "needs_background": "light"
     },
     "output_type": "display_data"
    }
   ],
   "source": [
    "plt.imshow(X_test_original[118])\n",
    "print (f\"prediction = {predict_op[118]}\")"
   ]
  },
  {
   "cell_type": "code",
   "execution_count": null,
   "metadata": {},
   "outputs": [],
   "source": []
  }
 ],
 "metadata": {
  "kernelspec": {
   "display_name": "Python 3",
   "language": "python",
   "name": "python3"
  },
  "language_info": {
   "codemirror_mode": {
    "name": "ipython",
    "version": 3
   },
   "file_extension": ".py",
   "mimetype": "text/x-python",
   "name": "python",
   "nbconvert_exporter": "python",
   "pygments_lexer": "ipython3",
   "version": "3.6.10"
  }
 },
 "nbformat": 4,
 "nbformat_minor": 2
}
